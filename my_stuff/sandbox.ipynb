{
 "cells": [
  {
   "cell_type": "code",
   "execution_count": 4,
   "metadata": {},
   "outputs": [
    {
     "name": "stdout",
     "output_type": "stream",
     "text": [
      "/home/kaya/1me/Coding/projects/python/video-game-data-explorer\n",
      "Requirement already satisfied: bokeh==2.4.3 in /home/kaya/1me/Coding/projects/python/ponisha crawler/.venv/lib/python3.10/site-packages (from -r requirements.txt (line 1)) (2.4.3)\n",
      "Requirement already satisfied: streamlit in /home/kaya/1me/Coding/projects/python/ponisha crawler/.venv/lib/python3.10/site-packages (from -r requirements.txt (line 2)) (1.35.0)\n",
      "Requirement already satisfied: pandas in /home/kaya/1me/Coding/projects/python/ponisha crawler/.venv/lib/python3.10/site-packages (from -r requirements.txt (line 3)) (2.2.2)\n",
      "Requirement already satisfied: tornado>=5.1 in /home/kaya/1me/Coding/projects/python/ponisha crawler/.venv/lib/python3.10/site-packages (from bokeh==2.4.3->-r requirements.txt (line 1)) (6.4)\n",
      "Requirement already satisfied: typing-extensions>=3.10.0 in /home/kaya/1me/Coding/projects/python/ponisha crawler/.venv/lib/python3.10/site-packages (from bokeh==2.4.3->-r requirements.txt (line 1)) (4.12.0)\n",
      "Requirement already satisfied: PyYAML>=3.10 in /home/kaya/1me/Coding/projects/python/ponisha crawler/.venv/lib/python3.10/site-packages (from bokeh==2.4.3->-r requirements.txt (line 1)) (6.0.1)\n",
      "Requirement already satisfied: pillow>=7.1.0 in /home/kaya/1me/Coding/projects/python/ponisha crawler/.venv/lib/python3.10/site-packages (from bokeh==2.4.3->-r requirements.txt (line 1)) (10.3.0)\n",
      "Requirement already satisfied: Jinja2>=2.9 in /home/kaya/1me/Coding/projects/python/ponisha crawler/.venv/lib/python3.10/site-packages (from bokeh==2.4.3->-r requirements.txt (line 1)) (3.1.4)\n",
      "Requirement already satisfied: packaging>=16.8 in /home/kaya/1me/Coding/projects/python/ponisha crawler/.venv/lib/python3.10/site-packages (from bokeh==2.4.3->-r requirements.txt (line 1)) (24.0)\n",
      "Requirement already satisfied: numpy>=1.11.3 in /home/kaya/1me/Coding/projects/python/ponisha crawler/.venv/lib/python3.10/site-packages (from bokeh==2.4.3->-r requirements.txt (line 1)) (1.26.4)\n",
      "Requirement already satisfied: toml<2,>=0.10.1 in /home/kaya/1me/Coding/projects/python/ponisha crawler/.venv/lib/python3.10/site-packages (from streamlit->-r requirements.txt (line 2)) (0.10.2)\n",
      "Requirement already satisfied: protobuf<5,>=3.20 in /home/kaya/1me/Coding/projects/python/ponisha crawler/.venv/lib/python3.10/site-packages (from streamlit->-r requirements.txt (line 2)) (4.25.3)\n",
      "Requirement already satisfied: click<9,>=7.0 in /home/kaya/1me/Coding/projects/python/ponisha crawler/.venv/lib/python3.10/site-packages (from streamlit->-r requirements.txt (line 2)) (8.1.7)\n",
      "Requirement already satisfied: tenacity<9,>=8.1.0 in /home/kaya/1me/Coding/projects/python/ponisha crawler/.venv/lib/python3.10/site-packages (from streamlit->-r requirements.txt (line 2)) (8.3.0)\n",
      "Requirement already satisfied: rich<14,>=10.14.0 in /home/kaya/1me/Coding/projects/python/ponisha crawler/.venv/lib/python3.10/site-packages (from streamlit->-r requirements.txt (line 2)) (13.7.1)\n",
      "Requirement already satisfied: requests<3,>=2.27 in /home/kaya/1me/Coding/projects/python/ponisha crawler/.venv/lib/python3.10/site-packages (from streamlit->-r requirements.txt (line 2)) (2.31.0)\n",
      "Requirement already satisfied: blinker<2,>=1.0.0 in /home/kaya/1me/Coding/projects/python/ponisha crawler/.venv/lib/python3.10/site-packages (from streamlit->-r requirements.txt (line 2)) (1.8.2)\n",
      "Requirement already satisfied: cachetools<6,>=4.0 in /home/kaya/1me/Coding/projects/python/ponisha crawler/.venv/lib/python3.10/site-packages (from streamlit->-r requirements.txt (line 2)) (5.3.3)\n",
      "Requirement already satisfied: watchdog>=2.1.5 in /home/kaya/1me/Coding/projects/python/ponisha crawler/.venv/lib/python3.10/site-packages (from streamlit->-r requirements.txt (line 2)) (4.0.1)\n",
      "Requirement already satisfied: altair<6,>=4.0 in /home/kaya/1me/Coding/projects/python/ponisha crawler/.venv/lib/python3.10/site-packages (from streamlit->-r requirements.txt (line 2)) (5.3.0)\n",
      "Requirement already satisfied: gitpython!=3.1.19,<4,>=3.0.7 in /home/kaya/1me/Coding/projects/python/ponisha crawler/.venv/lib/python3.10/site-packages (from streamlit->-r requirements.txt (line 2)) (3.1.43)\n",
      "Requirement already satisfied: pyarrow>=7.0 in /home/kaya/1me/Coding/projects/python/ponisha crawler/.venv/lib/python3.10/site-packages (from streamlit->-r requirements.txt (line 2)) (16.1.0)\n",
      "Requirement already satisfied: pydeck<1,>=0.8.0b4 in /home/kaya/1me/Coding/projects/python/ponisha crawler/.venv/lib/python3.10/site-packages (from streamlit->-r requirements.txt (line 2)) (0.9.1)\n",
      "Requirement already satisfied: tzdata>=2022.7 in /home/kaya/1me/Coding/projects/python/ponisha crawler/.venv/lib/python3.10/site-packages (from pandas->-r requirements.txt (line 3)) (2024.1)\n",
      "Requirement already satisfied: pytz>=2020.1 in /home/kaya/1me/Coding/projects/python/ponisha crawler/.venv/lib/python3.10/site-packages (from pandas->-r requirements.txt (line 3)) (2024.1)\n",
      "Requirement already satisfied: python-dateutil>=2.8.2 in /home/kaya/1me/Coding/projects/python/ponisha crawler/.venv/lib/python3.10/site-packages (from pandas->-r requirements.txt (line 3)) (2.9.0.post0)\n",
      "Requirement already satisfied: toolz in /home/kaya/1me/Coding/projects/python/ponisha crawler/.venv/lib/python3.10/site-packages (from altair<6,>=4.0->streamlit->-r requirements.txt (line 2)) (0.12.1)\n",
      "Requirement already satisfied: jsonschema>=3.0 in /home/kaya/1me/Coding/projects/python/ponisha crawler/.venv/lib/python3.10/site-packages (from altair<6,>=4.0->streamlit->-r requirements.txt (line 2)) (4.22.0)\n",
      "Requirement already satisfied: gitdb<5,>=4.0.1 in /home/kaya/1me/Coding/projects/python/ponisha crawler/.venv/lib/python3.10/site-packages (from gitpython!=3.1.19,<4,>=3.0.7->streamlit->-r requirements.txt (line 2)) (4.0.11)\n",
      "Requirement already satisfied: MarkupSafe>=2.0 in /home/kaya/1me/Coding/projects/python/ponisha crawler/.venv/lib/python3.10/site-packages (from Jinja2>=2.9->bokeh==2.4.3->-r requirements.txt (line 1)) (2.1.5)\n",
      "Requirement already satisfied: six>=1.5 in /home/kaya/1me/Coding/projects/python/ponisha crawler/.venv/lib/python3.10/site-packages (from python-dateutil>=2.8.2->pandas->-r requirements.txt (line 3)) (1.16.0)\n",
      "Requirement already satisfied: urllib3<3,>=1.21.1 in /home/kaya/1me/Coding/projects/python/ponisha crawler/.venv/lib/python3.10/site-packages (from requests<3,>=2.27->streamlit->-r requirements.txt (line 2)) (2.2.1)\n",
      "Requirement already satisfied: certifi>=2017.4.17 in /home/kaya/1me/Coding/projects/python/ponisha crawler/.venv/lib/python3.10/site-packages (from requests<3,>=2.27->streamlit->-r requirements.txt (line 2)) (2024.2.2)\n",
      "Requirement already satisfied: idna<4,>=2.5 in /home/kaya/1me/Coding/projects/python/ponisha crawler/.venv/lib/python3.10/site-packages (from requests<3,>=2.27->streamlit->-r requirements.txt (line 2)) (3.7)\n",
      "Requirement already satisfied: charset-normalizer<4,>=2 in /home/kaya/1me/Coding/projects/python/ponisha crawler/.venv/lib/python3.10/site-packages (from requests<3,>=2.27->streamlit->-r requirements.txt (line 2)) (3.3.2)\n",
      "Requirement already satisfied: markdown-it-py>=2.2.0 in /home/kaya/1me/Coding/projects/python/ponisha crawler/.venv/lib/python3.10/site-packages (from rich<14,>=10.14.0->streamlit->-r requirements.txt (line 2)) (3.0.0)\n",
      "Requirement already satisfied: pygments<3.0.0,>=2.13.0 in /home/kaya/1me/Coding/projects/python/ponisha crawler/.venv/lib/python3.10/site-packages (from rich<14,>=10.14.0->streamlit->-r requirements.txt (line 2)) (2.18.0)\n",
      "Requirement already satisfied: smmap<6,>=3.0.1 in /home/kaya/1me/Coding/projects/python/ponisha crawler/.venv/lib/python3.10/site-packages (from gitdb<5,>=4.0.1->gitpython!=3.1.19,<4,>=3.0.7->streamlit->-r requirements.txt (line 2)) (5.0.1)\n",
      "Requirement already satisfied: attrs>=22.2.0 in /home/kaya/1me/Coding/projects/python/ponisha crawler/.venv/lib/python3.10/site-packages (from jsonschema>=3.0->altair<6,>=4.0->streamlit->-r requirements.txt (line 2)) (23.2.0)\n",
      "Requirement already satisfied: jsonschema-specifications>=2023.03.6 in /home/kaya/1me/Coding/projects/python/ponisha crawler/.venv/lib/python3.10/site-packages (from jsonschema>=3.0->altair<6,>=4.0->streamlit->-r requirements.txt (line 2)) (2023.12.1)\n",
      "Requirement already satisfied: referencing>=0.28.4 in /home/kaya/1me/Coding/projects/python/ponisha crawler/.venv/lib/python3.10/site-packages (from jsonschema>=3.0->altair<6,>=4.0->streamlit->-r requirements.txt (line 2)) (0.35.1)\n",
      "Requirement already satisfied: rpds-py>=0.7.1 in /home/kaya/1me/Coding/projects/python/ponisha crawler/.venv/lib/python3.10/site-packages (from jsonschema>=3.0->altair<6,>=4.0->streamlit->-r requirements.txt (line 2)) (0.18.1)\n",
      "Requirement already satisfied: mdurl~=0.1 in /home/kaya/1me/Coding/projects/python/ponisha crawler/.venv/lib/python3.10/site-packages (from markdown-it-py>=2.2.0->rich<14,>=10.14.0->streamlit->-r requirements.txt (line 2)) (0.1.2)\n"
     ]
    }
   ],
   "source": [
    "! cd ..; pwd; pip install -r requirements.txt"
   ]
  },
  {
   "cell_type": "code",
   "execution_count": 9,
   "metadata": {},
   "outputs": [],
   "source": [
    "import pandas as pd"
   ]
  },
  {
   "cell_type": "code",
   "execution_count": 10,
   "metadata": {},
   "outputs": [
    {
     "name": "stdout",
     "output_type": "stream",
     "text": [
      "<class 'pandas.core.frame.DataFrame'>\n",
      "RangeIndex: 16598 entries, 0 to 16597\n",
      "Data columns (total 11 columns):\n",
      " #   Column        Non-Null Count  Dtype  \n",
      "---  ------        --------------  -----  \n",
      " 0   Rank          16598 non-null  int64  \n",
      " 1   Name          16598 non-null  object \n",
      " 2   Platform      16598 non-null  object \n",
      " 3   Year          16327 non-null  float64\n",
      " 4   Genre         16598 non-null  object \n",
      " 5   Publisher     16540 non-null  object \n",
      " 6   NA_Sales      16598 non-null  float64\n",
      " 7   EU_Sales      16598 non-null  float64\n",
      " 8   JP_Sales      16598 non-null  float64\n",
      " 9   Other_Sales   16598 non-null  float64\n",
      " 10  Global_Sales  16598 non-null  float64\n",
      "dtypes: float64(6), int64(1), object(4)\n",
      "memory usage: 1.4+ MB\n"
     ]
    }
   ],
   "source": [
    "data = pd.read_csv(\"../data/vgsales.csv\")\n",
    "data.info()"
   ]
  },
  {
   "cell_type": "code",
   "execution_count": 53,
   "metadata": {},
   "outputs": [
    {
     "name": "stdout",
     "output_type": "stream",
     "text": [
      "<class 'pandas.core.frame.DataFrame'>\n",
      "Index: 16291 entries, 0 to 16597\n",
      "Data columns (total 11 columns):\n",
      " #   Column        Non-Null Count  Dtype  \n",
      "---  ------        --------------  -----  \n",
      " 0   Rank          16291 non-null  int64  \n",
      " 1   Name          16291 non-null  object \n",
      " 2   Platform      16291 non-null  object \n",
      " 3   Year          16291 non-null  int64  \n",
      " 4   Genre         16291 non-null  object \n",
      " 5   Publisher     16291 non-null  object \n",
      " 6   NA_Sales      16291 non-null  float64\n",
      " 7   EU_Sales      16291 non-null  float64\n",
      " 8   JP_Sales      16291 non-null  float64\n",
      " 9   Other_Sales   16291 non-null  float64\n",
      " 10  Global_Sales  16291 non-null  float64\n",
      "dtypes: float64(5), int64(2), object(4)\n",
      "memory usage: 1.5+ MB\n"
     ]
    }
   ],
   "source": [
    "data.dropna(how=\"any\",inplace = True)\n",
    "data.Year = data.Year.astype(int)"
   ]
  },
  {
   "cell_type": "code",
   "execution_count": 12,
   "metadata": {},
   "outputs": [
    {
     "data": {
      "text/plain": [
       "16598"
      ]
     },
     "execution_count": 12,
     "metadata": {},
     "output_type": "execute_result"
    }
   ],
   "source": [
    "data[\"Rank\"].nunique()"
   ]
  },
  {
   "cell_type": "code",
   "execution_count": 13,
   "metadata": {},
   "outputs": [
    {
     "data": {
      "text/html": [
       "<div>\n",
       "<style scoped>\n",
       "    .dataframe tbody tr th:only-of-type {\n",
       "        vertical-align: middle;\n",
       "    }\n",
       "\n",
       "    .dataframe tbody tr th {\n",
       "        vertical-align: top;\n",
       "    }\n",
       "\n",
       "    .dataframe thead th {\n",
       "        text-align: right;\n",
       "    }\n",
       "</style>\n",
       "<table border=\"1\" class=\"dataframe\">\n",
       "  <thead>\n",
       "    <tr style=\"text-align: right;\">\n",
       "      <th></th>\n",
       "      <th>Rank</th>\n",
       "      <th>Year</th>\n",
       "      <th>NA_Sales</th>\n",
       "      <th>EU_Sales</th>\n",
       "      <th>JP_Sales</th>\n",
       "      <th>Other_Sales</th>\n",
       "      <th>Global_Sales</th>\n",
       "    </tr>\n",
       "  </thead>\n",
       "  <tbody>\n",
       "    <tr>\n",
       "      <th>count</th>\n",
       "      <td>16598.000000</td>\n",
       "      <td>16327.000000</td>\n",
       "      <td>16598.000000</td>\n",
       "      <td>16598.000000</td>\n",
       "      <td>16598.000000</td>\n",
       "      <td>16598.000000</td>\n",
       "      <td>16598.000000</td>\n",
       "    </tr>\n",
       "    <tr>\n",
       "      <th>mean</th>\n",
       "      <td>8300.605254</td>\n",
       "      <td>2006.406443</td>\n",
       "      <td>0.264667</td>\n",
       "      <td>0.146652</td>\n",
       "      <td>0.077782</td>\n",
       "      <td>0.048063</td>\n",
       "      <td>0.537441</td>\n",
       "    </tr>\n",
       "    <tr>\n",
       "      <th>std</th>\n",
       "      <td>4791.853933</td>\n",
       "      <td>5.828981</td>\n",
       "      <td>0.816683</td>\n",
       "      <td>0.505351</td>\n",
       "      <td>0.309291</td>\n",
       "      <td>0.188588</td>\n",
       "      <td>1.555028</td>\n",
       "    </tr>\n",
       "    <tr>\n",
       "      <th>min</th>\n",
       "      <td>1.000000</td>\n",
       "      <td>1980.000000</td>\n",
       "      <td>0.000000</td>\n",
       "      <td>0.000000</td>\n",
       "      <td>0.000000</td>\n",
       "      <td>0.000000</td>\n",
       "      <td>0.010000</td>\n",
       "    </tr>\n",
       "    <tr>\n",
       "      <th>25%</th>\n",
       "      <td>4151.250000</td>\n",
       "      <td>2003.000000</td>\n",
       "      <td>0.000000</td>\n",
       "      <td>0.000000</td>\n",
       "      <td>0.000000</td>\n",
       "      <td>0.000000</td>\n",
       "      <td>0.060000</td>\n",
       "    </tr>\n",
       "    <tr>\n",
       "      <th>50%</th>\n",
       "      <td>8300.500000</td>\n",
       "      <td>2007.000000</td>\n",
       "      <td>0.080000</td>\n",
       "      <td>0.020000</td>\n",
       "      <td>0.000000</td>\n",
       "      <td>0.010000</td>\n",
       "      <td>0.170000</td>\n",
       "    </tr>\n",
       "    <tr>\n",
       "      <th>75%</th>\n",
       "      <td>12449.750000</td>\n",
       "      <td>2010.000000</td>\n",
       "      <td>0.240000</td>\n",
       "      <td>0.110000</td>\n",
       "      <td>0.040000</td>\n",
       "      <td>0.040000</td>\n",
       "      <td>0.470000</td>\n",
       "    </tr>\n",
       "    <tr>\n",
       "      <th>max</th>\n",
       "      <td>16600.000000</td>\n",
       "      <td>2020.000000</td>\n",
       "      <td>41.490000</td>\n",
       "      <td>29.020000</td>\n",
       "      <td>10.220000</td>\n",
       "      <td>10.570000</td>\n",
       "      <td>82.740000</td>\n",
       "    </tr>\n",
       "  </tbody>\n",
       "</table>\n",
       "</div>"
      ],
      "text/plain": [
       "               Rank          Year      NA_Sales      EU_Sales      JP_Sales  \\\n",
       "count  16598.000000  16327.000000  16598.000000  16598.000000  16598.000000   \n",
       "mean    8300.605254   2006.406443      0.264667      0.146652      0.077782   \n",
       "std     4791.853933      5.828981      0.816683      0.505351      0.309291   \n",
       "min        1.000000   1980.000000      0.000000      0.000000      0.000000   \n",
       "25%     4151.250000   2003.000000      0.000000      0.000000      0.000000   \n",
       "50%     8300.500000   2007.000000      0.080000      0.020000      0.000000   \n",
       "75%    12449.750000   2010.000000      0.240000      0.110000      0.040000   \n",
       "max    16600.000000   2020.000000     41.490000     29.020000     10.220000   \n",
       "\n",
       "        Other_Sales  Global_Sales  \n",
       "count  16598.000000  16598.000000  \n",
       "mean       0.048063      0.537441  \n",
       "std        0.188588      1.555028  \n",
       "min        0.000000      0.010000  \n",
       "25%        0.000000      0.060000  \n",
       "50%        0.010000      0.170000  \n",
       "75%        0.040000      0.470000  \n",
       "max       10.570000     82.740000  "
      ]
     },
     "execution_count": 13,
     "metadata": {},
     "output_type": "execute_result"
    }
   ],
   "source": [
    "data.describe()"
   ]
  },
  {
   "cell_type": "code",
   "execution_count": 30,
   "metadata": {},
   "outputs": [
    {
     "data": {
      "text/plain": [
       "['Rank',\n",
       " 'Name',\n",
       " 'Platform',\n",
       " 'Year',\n",
       " 'Genre',\n",
       " 'Publisher',\n",
       " 'NA_Sales',\n",
       " 'EU_Sales',\n",
       " 'JP_Sales',\n",
       " 'Other_Sales',\n",
       " 'Global_Sales']"
      ]
     },
     "execution_count": 30,
     "metadata": {},
     "output_type": "execute_result"
    }
   ],
   "source": [
    "list(data.columns)"
   ]
  },
  {
   "cell_type": "code",
   "execution_count": 49,
   "metadata": {},
   "outputs": [
    {
     "data": {
      "text/plain": [
       "16597"
      ]
     },
     "execution_count": 49,
     "metadata": {},
     "output_type": "execute_result"
    }
   ],
   "source": [
    "data.last_valid_index()"
   ]
  },
  {
   "cell_type": "code",
   "execution_count": 50,
   "metadata": {},
   "outputs": [
    {
     "data": {
      "text/plain": [
       "16598"
      ]
     },
     "execution_count": 50,
     "metadata": {},
     "output_type": "execute_result"
    }
   ],
   "source": [
    "len(data)"
   ]
  },
  {
   "cell_type": "code",
   "execution_count": null,
   "metadata": {},
   "outputs": [],
   "source": []
  }
 ],
 "metadata": {
  "kernelspec": {
   "display_name": ".venv",
   "language": "python",
   "name": "python3"
  },
  "language_info": {
   "codemirror_mode": {
    "name": "ipython",
    "version": 3
   },
   "file_extension": ".py",
   "mimetype": "text/x-python",
   "name": "python",
   "nbconvert_exporter": "python",
   "pygments_lexer": "ipython3",
   "version": "3.10.12"
  }
 },
 "nbformat": 4,
 "nbformat_minor": 2
}
